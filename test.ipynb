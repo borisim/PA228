{
 "cells": [
  {
   "cell_type": "code",
   "execution_count": 1,
   "metadata": {},
   "outputs": [
    {
     "name": "stdout",
     "output_type": "stream",
     "text": [
      "Computing with cpu!\n"
     ]
    }
   ],
   "source": [
    "import torch\n",
    "device = torch.device('cuda' if torch.cuda.is_available() else 'cpu')\n",
    "print('Computing with {}!'.format(device))"
   ]
  },
  {
   "cell_type": "code",
   "execution_count": 2,
   "metadata": {},
   "outputs": [],
   "source": [
    "from matplotlib import pyplot as plt\n",
    "\n",
    "\n",
    "def ishow(img,\n",
    "          cmap='viridis',\n",
    "          title='',\n",
    "          fig_size=(8,6),\n",
    "          colorbar=False,\n",
    "          interpolation='none'):\n",
    "    ' Function `ishow` displays an image in a new window. '\n",
    "    \n",
    "    if img.min() < 0:\n",
    "        img -= img.min()\n",
    "        img /= img.max()\n",
    "    \n",
    "    extent = (0, img.shape[1], img.shape[0], 0)\n",
    "    fig, ax = plt.subplots(figsize=fig_size)\n",
    "    pcm = ax.imshow(img,\n",
    "              extent=extent,\n",
    "              cmap=cmap,\n",
    "              interpolation=interpolation)\n",
    "    \n",
    "    ax.set_frame_on(False)\n",
    "    plt.title(title)\n",
    "    plt.tight_layout()\n",
    "    if colorbar:\n",
    "        \n",
    "        fig.colorbar(pcm, orientation='vertical')\n",
    "    plt.show()\n",
    "    "
   ]
  },
  {
   "cell_type": "code",
   "execution_count": 3,
   "metadata": {},
   "outputs": [],
   "source": [
    "from pathlib import Path\n",
    "\n",
    "\n",
    "PATH = Path('data', 'data_seg_public')\n",
    "town_dir = PATH / 'img'\n",
    "mask_dir = PATH / 'mask'\n",
    "# [ len(list(img_dir.iterdir())) for img_dir in sorted(list(town_dir.iterdir()))]"
   ]
  },
  {
   "cell_type": "code",
   "execution_count": 4,
   "metadata": {},
   "outputs": [],
   "source": [
    "# [ len(list(img_dir.iterdir())) for img_dir in sorted(list(mask_dir.iterdir()))]"
   ]
  },
  {
   "cell_type": "code",
   "execution_count": 5,
   "metadata": {},
   "outputs": [],
   "source": [
    "import tqdm\n",
    "import pandas as pd\n",
    "import glob\n",
    "\n",
    "# samples = []\n",
    "# n_samples = len(list(img_dir.glob('*')))\n",
    "# towns = sorted(list(town_dir.iterdir()))\n",
    "# img_files = [list(img.iterdir()) for img in towns]\n",
    "# img_files = sorted([item for sublist in img_files for item in sublist])\n",
    "# ann_files = list(ann_dir.iterdir())\n",
    "# for img_path, ann_path in zip(img_files, ann_files):\n",
    "#     # Create a dictionary for the current sample\n",
    "#     sample = {\n",
    "#         'img_path': img_path,\n",
    "#         'ann_path': ann_path\n",
    "#     }\n",
    "#     # Append the dictionary to the samples list\n",
    "#     samples.append(sample)\n",
    "\n",
    "\n",
    "\n",
    "# df = pd.DataFrame(samples)\n",
    "# df.loc[0]['ann_path']\n",
    "# img_files"
   ]
  },
  {
   "cell_type": "code",
   "execution_count": 6,
   "metadata": {},
   "outputs": [],
   "source": [
    "import albumentations as A\n",
    "from albumentations.pytorch import ToTensorV2\n",
    "\n",
    "transforms_train = A.Compose([\n",
    "                        #  augmentation \n",
    "                        #  A.ColorJitter(brightness=.5, contrast=.5, saturation=.5, hue=.1),\n",
    "                        #  A.GaussNoise(),\n",
    "                        #  A.HorizontalFlip(p=0.5),\n",
    "                        #  A.ShiftScaleRotate(rotate_limit=30, p=1, border_mode=0, value=0, mask_value=3),\n",
    "                        #  A.RGBShift(r_shift_limit=15, g_shift_limit=15, b_shift_limit=15, p=0.5),\n",
    "                            \n",
    "                        #  # preprocessing\n",
    "                        #  A.SmallestMaxSize (1024),\n",
    "                        #  A.CenterCrop(512, 1024),\n",
    "                        #  A.Normalize(mean=(0.485, 0.456, 0.406), std=(0.229, 0.224, 0.225)),\n",
    "                         ToTensorV2(),\n",
    "                        ]   \n",
    "                    )"
   ]
  },
  {
   "cell_type": "code",
   "execution_count": 7,
   "metadata": {},
   "outputs": [],
   "source": [
    "from sklearn.model_selection import train_test_split\n",
    "from dataset import SampleDataset\n",
    "from network import SampleModel\n"
   ]
  },
  {
   "cell_type": "code",
   "execution_count": 8,
   "metadata": {},
   "outputs": [
    {
     "data": {
      "image/png": "[encoded data removed]",
      "text/plain": [
       "<Figure size 800x600 with 1 Axes>"
      ]
     },
     "metadata": {},
     "output_type": "display_data"
    }
   ],
   "source": [
    "\n",
    "img_files = glob.glob(\"{}/*/*.png\".format(town_dir))\n",
    "mask_files = glob.glob(\"{}/*/*.png\".format(mask_dir))\n",
    "df = pd.DataFrame({'img': img_files, 'mask': mask_files})\n",
    "train_df, valid_df = train_test_split(df, test_size=.3, random_state=2)\n",
    "\n",
    "train_df, valid_df = train_test_split(df, test_size=.3, random_state=2)\n",
    "traindataset = SampleDataset(dataset_df=train_df, transforms=transforms_train)\n",
    "\n",
    "\n",
    "model = SampleModel(num_class=8)\n",
    "IDX = 2285\n",
    "x, y = traindataset[IDX]\n",
    "# pred = model(x.unsqueeze(0))\n",
    "# print(x.unsqueeze(0).shape)\n",
    "ishow(y)\n"
   ]
  },
  {
   "cell_type": "code",
   "execution_count": 9,
   "metadata": {},
   "outputs": [
    {
     "name": "stdout",
     "output_type": "stream",
     "text": [
      "3267\n"
     ]
    }
   ],
   "source": [
    "\n",
    "import sys\n",
    "import matplotlib.pyplot as plt\n",
    "from pa228_tools import ishow\n",
    "\n",
    "import torch\n",
    "import pandas as pd\n",
    "from torchview import draw_graph\n",
    "# from network import ModelExample\n",
    "from dataset import SampleDataset\n",
    "from sklearn.model_selection import train_test_split\n",
    "from pathlib import Path\n",
    "from network import SampleModel\n",
    "from pa228_tools import  plot_seg_result, show_seg_sample\n",
    "import numpy as np\n",
    "\n",
    "import glob\n",
    "\n",
    "# dataset_path = \"/home/borisim/Documents/school/pa228/project/Project_Template/PROJCODE_UCO/data\"\n",
    "dataset_path = 'C:/Users/xboril/Documents/proj/PA228/data'\n",
    "PATH = Path('{}'.format(dataset_path), 'data_seg_public')\n",
    "img_dir = PATH / 'img'\n",
    "mask_dir = PATH / 'mask'\n",
    "img_files = glob.glob(\"{}/*/*.png\".format(img_dir))\n",
    "mask_files = glob.glob(\"{}/*/*.png\".format(mask_dir))\n",
    "print(len(img_files))\n",
    "df = pd.DataFrame({'img': img_files, 'mask': mask_files})\n",
    "\n",
    "import albumentations as A\n",
    "from albumentations.pytorch import ToTensorV2\n",
    "\n",
    "transforms = A.Compose([\n",
    "                         A.SmallestMaxSize (512),\n",
    "                         A.CenterCrop(512, 1024),\n",
    "                         A.Normalize(mean=(0.485, 0.456, 0.406), std=(0.229, 0.224, 0.225)),\n",
    "                         ToTensorV2(),\n",
    "                        ]   \n",
    "                    )\n",
    "\n",
    "train_df, valid_df = train_test_split(df, test_size=.3, random_state=2)\n",
    "traindataset, valdataset = SampleDataset(train_df, transforms), SampleDataset(valid_df, transforms)\n",
    "\n",
    "\n",
    "\n",
    "\n",
    "\n",
    "# model_path = 'model.pt'  # an example of model_path parameter\n",
    "# model = torch.load(model_path)\n",
    "# model.eval()\n"
   ]
  },
  {
   "cell_type": "code",
   "execution_count": 23,
   "metadata": {},
   "outputs": [],
   "source": [
    "\n",
    "model = SampleModel(num_class=8)\n",
    "IDX = 2285\n",
    "x, y = traindataset[IDX]\n",
    "pred = model(x.unsqueeze(0))\n"
   ]
  },
  {
   "cell_type": "code",
   "execution_count": 110,
   "metadata": {},
   "outputs": [
    {
     "data": {
      "text/plain": [
       "torch.Size([1, 512, 1024])"
      ]
     },
     "execution_count": 110,
     "metadata": {},
     "output_type": "execute_result"
    }
   ],
   "source": [
    "# y.shape\n",
    "wtf = y.argmax(dim=2).unsqueeze(0)\n",
    "max_tensor, _ = torch.max(y, dim=2)\n",
    "\n",
    "# target = y.unsqueeze(0)\n",
    "# num_classes = 8\n",
    "# reshaped_tensor = target.view(-1)\n",
    "# target = torch.nn.functional.one_hot(reshaped_tensor, num_classes)\n",
    "\n",
    "target = max_tensor.unsqueeze(0)\n",
    "target.shape"
   ]
  },
  {
   "cell_type": "code",
   "execution_count": 97,
   "metadata": {},
   "outputs": [
    {
     "name": "stdout",
     "output_type": "stream",
     "text": [
      "tensor([  0,  70, 128, 142, 153, 180])\n",
      "{0: 0, 70: 1, 128: 2, 142: 3, 153: 4, 180: 5}\n",
      "torch.Size([524288])\n"
     ]
    }
   ],
   "source": [
    "unique_values = torch.unique(target)\n",
    "print(unique_values)\n",
    "# Create a mapping from unique values to indices ranging from 0 to 6\n",
    "value_to_index = {value.item(): index for index, value in enumerate(unique_values)}\n",
    "print(value_to_index)\n",
    "\n",
    "# Iterate over the unique values and fill in the one-hot encoded tensor\n",
    "h = target.view(-1)\n",
    "print(h.shape)\n",
    "for ind, value in enumerate(h):\n",
    "    h[ind] = value_to_index[h[ind].item()]\n",
    "\n",
    "# Convert the one-hot encoded tensor to have integer values from 0 to 7\n",
    "# target = torch.argmax(one_hot_encoded, dim=-1)\n",
    "# target.shape"
   ]
  },
  {
   "cell_type": "code",
   "execution_count": 109,
   "metadata": {},
   "outputs": [],
   "source": [
    "target = h.view(512, 1024)\n"
   ]
  },
  {
   "cell_type": "code",
   "execution_count": 112,
   "metadata": {},
   "outputs": [
    {
     "name": "stdout",
     "output_type": "stream",
     "text": [
      "torch.Size([1, 8, 512, 1024])\n",
      "torch.Size([1, 512, 1024])\n",
      "Loss: 2.1051442623138428\n"
     ]
    }
   ],
   "source": [
    "loss_function = torch.nn.CrossEntropyLoss()\n",
    "print(pred.shape)\n",
    "print(wtf.shape)\n",
    "# Calculate the loss\n",
    "loss = loss_function(pred, wtf)\n",
    "\n",
    "# Print the loss\n",
    "print(\"Loss:\", loss.item())"
   ]
  }
 ],
 "metadata": {
  "kernelspec": {
   "display_name": "Python 3",
   "language": "python",
   "name": "python3"
  },
  "language_info": {
   "codemirror_mode": {
    "name": "ipython",
    "version": 3
   },
   "file_extension": ".py",
   "mimetype": "text/x-python",
   "name": "python",
   "nbconvert_exporter": "python",
   "pygments_lexer": "ipython3",
   "version": "3.11.5"
  }
 },
 "nbformat": 4,
 "nbformat_minor": 2
}
